{
 "cells": [
  {
   "cell_type": "markdown",
   "metadata": {},
   "source": [
    "# Parsing and assembling corpus data for the MSDS 453 final project\n",
    "\n",
    "This code will take care of bringing in text files, parsing them into tokens, and store the tokenized version of each text together in a dataframe. We'll also include the vectorized version in the same dataframe, just to make things easier\n",
    "\n",
    "It should also check if a text has already been added, and if it has it will just ignore it.\n",
    "\n",
    "\n",
    "While in the future we could probably build this to run through a webscraper using Selinium or Scrapy, we're just going to have folks select text documents for now.\n",
    "\n",
    "### Start by importing everything"
   ]
  },
  {
   "cell_type": "code",
   "execution_count": 10,
   "metadata": {},
   "outputs": [],
   "source": [
    "import re,string\n",
    "from nltk.corpus import stopwords\n",
    "from nltk.stem import PorterStemmer\n",
    "\n",
    "\n",
    "import pandas as pd # we'll put things into dataframes, then pickle them\n",
    "import pickle \n",
    "from os import path\n",
    "import glob\n",
    "\n",
    "from gensim.models import Word2Vec,LdaMulticore, TfidfModel\n",
    "from gensim import corpora\n",
    "from gensim.models.doc2vec import Doc2Vec, TaggedDocument\n",
    "\n",
    "import numpy as np\n",
    "\n",
    "from sklearn.feature_extraction.text import TfidfTransformer\n",
    "\n",
    "# allow GUI-based document imports\n",
    "from tkinter import Tk, filedialog\n",
    "import tkinter as tk\n",
    "\n",
    "from os import path\n",
    "\n",
    "import utils"
   ]
  },
  {
   "cell_type": "code",
   "execution_count": 2,
   "metadata": {},
   "outputs": [],
   "source": [
    "# # download stopwords if necessary\n",
    "# import nltk\n",
    "# nltk.download('stopwords')"
   ]
  },
  {
   "cell_type": "code",
   "execution_count": 11,
   "metadata": {},
   "outputs": [],
   "source": [
    "import ipympl"
   ]
  },
  {
   "cell_type": "markdown",
   "metadata": {},
   "source": [
    "### Supporting functions\n",
    "\n",
    "The nice little helpers to get everything running"
   ]
  },
  {
   "cell_type": "code",
   "execution_count": 12,
   "metadata": {},
   "outputs": [],
   "source": [
    "###############################################################################\n",
    "### Function to process documents\n",
    "###############################################################################\n",
    "def clean_doc(doc): \n",
    "    #split document into individual words\n",
    "    tokens=doc.split()\n",
    "    re_punc = re.compile('[%s]' % re.escape(string.punctuation))\n",
    "    # remove punctuation from each word\n",
    "    tokens = [re_punc.sub('', w) for w in tokens]\n",
    "    # remove remaining tokens that are not alphabetic\n",
    "    tokens = [word for word in tokens if word.isalpha()]\n",
    "    # filter out short tokens\n",
    "    tokens = [word for word in tokens if len(word) > 4]\n",
    "    #lowercase all words\n",
    "    tokens = [word.lower() for word in tokens]\n",
    "    # filter out stop words\n",
    "    stop_words = set(stopwords.words('english'))\n",
    "    tokens = [w for w in tokens if not w in stop_words]         \n",
    "    # word stemming    \n",
    "    # ps=PorterStemmer()\n",
    "    # tokens=[ps.stem(word) for word in tokens]\n",
    "    return tokens"
   ]
  },
  {
   "cell_type": "code",
   "execution_count": 13,
   "metadata": {},
   "outputs": [],
   "source": [
    "###############################################################################\n",
    "#   Functions to label encoding\n",
    "###############################################################################\n",
    "def One_Hot(variable):\n",
    "    LE=LabelEncoder()\n",
    "    LE.fit(variable)\n",
    "    Label1=LE.transform(variable)\n",
    "    OHE=OneHotEncoder()\n",
    "    labels=OHE.fit_transform(Label1.reshape(-1,1)).toarray()\n",
    "    return labels, LE, OHE"
   ]
  },
  {
   "cell_type": "markdown",
   "metadata": {},
   "source": [
    "### Choose files, import"
   ]
  },
  {
   "cell_type": "code",
   "execution_count": 14,
   "metadata": {},
   "outputs": [],
   "source": [
    "# navigate to the directory we will be scanning\n",
    "# should be able to do this without using the root...\n",
    "rt = Tk()\n",
    "dir_corp = filedialog.askdirectory(master=rt)\n",
    "rt.destroy()"
   ]
  },
  {
   "cell_type": "code",
   "execution_count": 22,
   "metadata": {},
   "outputs": [],
   "source": [
    "# load any new files into the \"file\" pickle\n",
    "# this is just the title in one column, and all of the cleaned text in the second column\n",
    "\n",
    "filenames = glob.glob(f\"{dir_corp}{path.sep}*.txt\")\n",
    "corp_pkl = path.join(dir_corp,\"FileDF.pkl\")\n",
    "\n",
    "if path.exists(corp_pkl):\n",
    "    with open(corp_pkl,'rb') as fid:\n",
    "        file_df = pickle.load(fid)\n",
    "else:\n",
    "    file_df = pd.DataFrame(columns=['Title','Cleaned_List','Full_Text', 'Publication'])\n",
    "\n",
    "\n",
    "for filename in filenames:\n",
    "    with open(filename, 'r', encoding='utf-8') as fid:\n",
    "        text_block = fid.read()\n",
    "    \n",
    "    title = path.splitext(path.split(filename)[-1])[0] # get rid of path and extension info\n",
    "    if title not in file_df['Title']:\n",
    "        title_split = title.split('_')\n",
    "        word_list = clean_doc(text_block) # pull out the individual words, minus stop words etc\n",
    "        file_dict = {'Title':title, 'Cleaned_List':[word_list], 'Full_Text':[text_block], 'Publication':title_split[-1]}\n",
    "        file_df = pd.concat([file_df, pd.DataFrame(file_dict)])\n",
    "\n",
    "# reset the indices\n",
    "file_df.reset_index(inplace=True, drop=True)\n",
    "\n",
    "with open(corp_pkl, 'wb') as fid:\n",
    "    pickle.dump(file_df)"
   ]
  },
  {
   "cell_type": "markdown",
   "metadata": {},
   "source": [
    "### TFIDF processing\n",
    "\n",
    "tf-idf using sklearn. \n",
    "\n",
    "This is a little more pythonic than the version provided by Paul, but should do all of the same things. Most of the dataframes are named the same, except where I thought a different name might be a little more explanatory"
   ]
  },
  {
   "cell_type": "code",
   "execution_count": 9,
   "metadata": {},
   "outputs": [
    {
     "ename": "NameError",
     "evalue": "name 'TfidfVectorizer' is not defined",
     "output_type": "error",
     "traceback": [
      "\u001b[1;31m---------------------------------------------------------------------------\u001b[0m",
      "\u001b[1;31mNameError\u001b[0m                                 Traceback (most recent call last)",
      "\u001b[1;32mc:\\Users\\17204\\Documents\\git\\MSDS453_GroupProject\\CorpusParsing.ipynb Cell 12\u001b[0m in \u001b[0;36m<cell line: 2>\u001b[1;34m()\u001b[0m\n\u001b[0;32m      <a href='vscode-notebook-cell:/c%3A/Users/17204/Documents/git/MSDS453_GroupProject/CorpusParsing.ipynb#X13sZmlsZQ%3D%3D?line=0'>1</a>\u001b[0m \u001b[39m# call the tfidf vectorizer. ngram range allows you to use multi-words within matrix\u001b[39;00m\n\u001b[1;32m----> <a href='vscode-notebook-cell:/c%3A/Users/17204/Documents/git/MSDS453_GroupProject/CorpusParsing.ipynb#X13sZmlsZQ%3D%3D?line=1'>2</a>\u001b[0m Tfidf \u001b[39m=\u001b[39m TfidfVectorizer(ngram_range\u001b[39m=\u001b[39m(\u001b[39m1\u001b[39m,\u001b[39m3\u001b[39m))\n\u001b[0;32m      <a href='vscode-notebook-cell:/c%3A/Users/17204/Documents/git/MSDS453_GroupProject/CorpusParsing.ipynb#X13sZmlsZQ%3D%3D?line=3'>4</a>\u001b[0m \u001b[39m# fit with final processed documents\u001b[39;00m\n\u001b[0;32m      <a href='vscode-notebook-cell:/c%3A/Users/17204/Documents/git/MSDS453_GroupProject/CorpusParsing.ipynb#X13sZmlsZQ%3D%3D?line=4'>5</a>\u001b[0m TFIDF_matrix \u001b[39m=\u001b[39m Tfidf\u001b[39m.\u001b[39mfit_transform(file_df[\u001b[39m'\u001b[39m\u001b[39mword_list\u001b[39m\u001b[39m'\u001b[39m])\n",
      "\u001b[1;31mNameError\u001b[0m: name 'TfidfVectorizer' is not defined"
     ]
    }
   ],
   "source": [
    "# call the tfidf vectorizer. ngram range allows you to use multi-words within matrix\n",
    "Tfidf = TfidfVectorizer(ngram_range=(1,3))\n",
    "\n",
    "# fit with final processed documents\n",
    "TFIDF_matrix = Tfidf.fit_transform(file_df['word_list'])\n",
    "TFIDF_df = pd.DataFrame(TFIDF_matrix.toarray(), columns=Tfidf.get_feature_names_out(), index=titles)\n",
    "\n",
    "# get some summaries\n",
    "tfidf_mean = np.array(TFIDF_df.mean(axis=0)) # mean tfidf value per term, across documents\n",
    "tfidf_mean_quarts = np.percentile(tfidf_mean, [25, 75]) # quartiles\n",
    "cross_doc_outlier = tfidf_mean_quarts[1] + 1.5*(tfidf_mean_quarts[1]-tfidf_mean_quarts[0])\n",
    "\n",
    "# list of terms that show up frequently\n",
    "outlier_list = TFIDF_df.columns[tfidf_mean>cross_doc_outlier].to_list()"
   ]
  },
  {
   "cell_type": "markdown",
   "metadata": {},
   "source": [
    "### Doc2Vec\n",
    "\n",
    "using Gensim"
   ]
  },
  {
   "cell_type": "code",
   "execution_count": 9,
   "metadata": {},
   "outputs": [],
   "source": [
    "documents = [TaggedDocument(doc, [i]) for i, doc in enumerate(final_processed_text)]\n",
    "model = Doc2Vec(documents, vector_size=100, window=2, min_count=1, workers=4)\n",
    "\n",
    "doc2vec_df = pd.DataFrame([model.infer_vector(txt) for txt in processed_text], index=titles)"
   ]
  },
  {
   "cell_type": "markdown",
   "metadata": {},
   "source": [
    "### Word2Vec using Gensim"
   ]
  },
  {
   "cell_type": "code",
   "execution_count": 10,
   "metadata": {},
   "outputs": [],
   "source": [
    "#Note, there are opportunities to use the word2vec matrix to determine words \n",
    "#which are similar.  Similar words can be used to create equivalent classes.  \n",
    "#k-means is not used to group individual words using the Word2Vec output.\n",
    "\n",
    "#word to vec\n",
    "model_w2v = Word2Vec(processed_text, vector_size=100, window=5, min_count=1, workers=4)\n",
    "\n",
    "#join all processed DSI words into single list\n",
    "w2v_words = list(set([item for sublist in processed_text for item in sublist]))\n",
    "w2v_words.sort()\n",
    "\n",
    "# get the w2v vectors in a dictionary, using comprehension\n",
    "w2v_vectors = {word:model_w2v.wv[word] for ii,word in enumerate(w2v_words) }\n",
    "\n",
    "#create a final dataframe to view word vectors\n",
    "w2v_df=pd.DataFrame(w2v_vectors).transpose()\n",
    "\n"
   ]
  },
  {
   "cell_type": "markdown",
   "metadata": {},
   "source": [
    "## K-means clustering\n",
    "\n",
    "\n",
    "Using Doc2Vec since everyone else was using tfidf"
   ]
  },
  {
   "cell_type": "code",
   "execution_count": 11,
   "metadata": {},
   "outputs": [
    {
     "name": "stderr",
     "output_type": "stream",
     "text": [
      "c:\\Users\\17204\\miniconda3\\envs\\MSDS\\lib\\site-packages\\sklearn\\cluster\\_kmeans.py:1334: UserWarning: KMeans is known to have a memory leak on Windows with MKL, when there are less chunks than available threads. You can avoid it by setting the environment variable OMP_NUM_THREADS=1.\n",
      "  warnings.warn(\n"
     ]
    }
   ],
   "source": [
    "k= int(np.floor(np.sqrt(len(titles))))\n",
    "km = KMeans(n_clusters=k, random_state =89)\n",
    "km.fit(doc2vec_df)\n",
    "clusters_d2v = km.labels_.tolist()\n",
    "\n",
    "Dictionary={'Doc Name':titles, 'Cluster':clusters_d2v,  'Text': final_processed_text}\n",
    "frame=pd.DataFrame(Dictionary, columns=['Cluster', 'Doc Name','Text'])\n",
    "\n",
    "cluster_title = {cluster:titles for cluster,title in enumerate(frame.groupby('Cluster').agg(','.join)['Doc Name'])}\n"
   ]
  },
  {
   "cell_type": "markdown",
   "metadata": {},
   "source": [
    "### Now plot the clusters\n"
   ]
  },
  {
   "cell_type": "code",
   "execution_count": 21,
   "metadata": {},
   "outputs": [
    {
     "data": {
      "application/vnd.jupyter.widget-view+json": {
       "model_id": "e9693fb776ce44389030c5a58636ce91",
       "version_major": 2,
       "version_minor": 0
      },
      "image/png": "[encoded data removed]",
      "text/html": [
       "\n",
       "            <div style=\"display: inline-block;\">\n",
       "                <div class=\"jupyter-widgets widget-label\" style=\"text-align: center;\">\n",
       "                    Figure\n",
       "                </div>\n",
       "                <img src='data:image/png;base64,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' width=900.0/>\n",
       "            </div>\n",
       "        "
      ],
      "text/plain": [
       "Canvas(toolbar=Toolbar(toolitems=[('Home', 'Reset original view', 'home', 'home'), ('Back', 'Back to previous …"
      ]
     },
     "metadata": {},
     "output_type": "display_data"
    }
   ],
   "source": [
    "###############################################################################\n",
    "### Plotting Doc2vec\n",
    "###############################################################################\n",
    "# convert two components as we're plotting points in a two-dimensional plane\n",
    "# \"precomputed\" because we provide a distance matrix\n",
    "# we will also specify `random_state` so the plot is reproducible.\n",
    "\n",
    "\n",
    "mds = MDS(n_components=2, dissimilarity=\"precomputed\", random_state=1)\n",
    "\n",
    "dist = 1 - cosine_similarity(doc2vec_df)\n",
    "\n",
    "pos = mds.fit_transform(dist)  # shape (n_components, n_samples)\n",
    "\n",
    "xs, ys = pos[:, 0], pos[:, 1]\n",
    "\n",
    "\n",
    "#set up colors per clusters using a dict.  number of colors must correspond to K\n",
    "cluster_colors = {0: 'black', 1: 'grey', 2: 'blue', 3: 'rosybrown', 4: 'firebrick', \n",
    "                  5:'red', 6:'darksalmon', 7:'sienna'}\n",
    "\n",
    "\n",
    "#set up cluster names using a dict.  \n",
    "cluster_dict=cluster_title         \n",
    "\n",
    "#create data frame that has the result of the MDS plus the cluster numbers and titles\n",
    "df = pd.DataFrame(dict(x=xs, y=ys, label=clusters_d2v, title=range(0,len(clusters_d2v)))) \n",
    "\n",
    "#group by cluster\n",
    "groups = df.groupby('label')\n",
    "\n",
    "fig, ax = plt.subplots() # set size\n",
    "ax.margins(0.05) # Optional, just adds 5% padding to the autoscaling\n",
    "\n",
    "#iterate through groups to layer the plot\n",
    "#note that I use the cluster_name and cluster_color dicts with the 'name' lookup to return the appropriate color/label\n",
    "for name, group in groups:\n",
    "    ax.plot(group.x, group.y, marker='o', linestyle='', ms=12,\n",
    "            label=cluster_dict[name], color=cluster_colors[name], \n",
    "            mec='none')\n",
    "    # ax.set_aspect('auto')\n",
    "    # ax.tick_params(\\\n",
    "    #     axis= 'x',          # changes apply to the x-axis\n",
    "    #     which='both',      # both major and minor ticks are affected\n",
    "    #     bottom='off',      # ticks along the bottom edge are off\n",
    "    #     top='off',         # ticks along the top edge are off\n",
    "    #     labelbottom='on')\n",
    "    # ax.tick_params(\\\n",
    "    #     axis= 'y',         # changes apply to the y-axis\n",
    "    #     which='both',      # both major and minor ticks are affected\n",
    "    #     left='off',      # ticks along the bottom edge are off\n",
    "    #     right='off',         # ticks along the top edge are off\n",
    "    #     labelleft='on')\n",
    "\n",
    "for spine in ax.spines:\n",
    "    ax.spines[spine].set_visible(False)\n",
    "\n",
    "\n",
    "ax.legend(bbox_to_anchor=(1,0.5))      #show legend with only 1 point\n",
    "\n",
    "fig.set_size_inches([9,9])\n",
    "\n",
    "fig.savefig('Doc2Vec.png')\n"
   ]
  },
  {
   "cell_type": "code",
   "execution_count": 5,
   "metadata": {},
   "outputs": [
    {
     "data": {
      "text/plain": [
       "';'"
      ]
     },
     "execution_count": 5,
     "metadata": {},
     "output_type": "execute_result"
    }
   ],
   "source": [
    "path.pathsep"
   ]
  },
  {
   "cell_type": "code",
   "execution_count": 8,
   "metadata": {},
   "outputs": [
    {
     "data": {
      "text/plain": [
       "'\\\\'"
      ]
     },
     "execution_count": 8,
     "metadata": {},
     "output_type": "execute_result"
    }
   ],
   "source": [
    "path.sep\n"
   ]
  },
  {
   "cell_type": "code",
   "execution_count": null,
   "metadata": {},
   "outputs": [],
   "source": []
  }
 ],
 "metadata": {
  "kernelspec": {
   "display_name": "Python 3.9.7 ('MSDS')",
   "language": "python",
   "name": "python3"
  },
  "language_info": {
   "codemirror_mode": {
    "name": "ipython",
    "version": 3
   },
   "file_extension": ".py",
   "mimetype": "text/x-python",
   "name": "python",
   "nbconvert_exporter": "python",
   "pygments_lexer": "ipython3",
   "version": "3.9.7"
  },
  "orig_nbformat": 4,
  "vscode": {
   "interpreter": {
    "hash": "e6f5ab44297089514ffa059ea0d83d6392bebfea7e191fb6b7f26c8412c9553b"
   }
  }
 },
 "nbformat": 4,
 "nbformat_minor": 2
}
